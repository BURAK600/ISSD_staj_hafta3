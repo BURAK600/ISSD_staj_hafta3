{
 "cells": [
  {
   "cell_type": "code",
   "execution_count": 1,
   "id": "546205f1",
   "metadata": {},
   "outputs": [],
   "source": [
    "import numpy as np\n",
    "import pandas as pd\n",
    "import matplotlib.pyplot as plt\n",
    "data = pd.read_csv('Mall_Customers.csv')"
   ]
  },
  {
   "cell_type": "code",
   "execution_count": 2,
   "id": "b5cd45f8",
   "metadata": {},
   "outputs": [],
   "source": [
    "from sklearn import preprocessing\n",
    "le = preprocessing.LabelEncoder()\n",
    "\n",
    "data[\"Gender\"] = le.fit_transform(data[\"Gender\"])\n",
    "\n",
    "X_df= data.iloc[:,1:]"
   ]
  },
  {
   "cell_type": "code",
   "execution_count": 3,
   "id": "f11076e4",
   "metadata": {},
   "outputs": [],
   "source": [
    "from sklearn.preprocessing import StandardScaler\n",
    "\n",
    "sc = StandardScaler()\n",
    "\n",
    "X = sc.fit_transform(X_df)\n"
   ]
  },
  {
   "cell_type": "code",
   "execution_count": 4,
   "id": "d11c9bdd",
   "metadata": {},
   "outputs": [],
   "source": [
    "UNCLASSIFIED = False\n",
    "NOISE = None\n",
    "\n",
    "def _dist(p,q):\n",
    "    \n",
    "    return np.sqrt(np.power(p-q,2).sum())"
   ]
  },
  {
   "cell_type": "code",
   "execution_count": 5,
   "id": "1ed96956",
   "metadata": {},
   "outputs": [
    {
     "data": {
      "text/plain": [
       "19.381770950680092"
      ]
     },
     "execution_count": 5,
     "metadata": {},
     "output_type": "execute_result"
    }
   ],
   "source": [
    "_dist(X[:,0],X[:,1])"
   ]
  },
  {
   "cell_type": "code",
   "execution_count": 6,
   "id": "75a297f6",
   "metadata": {},
   "outputs": [],
   "source": [
    "def _esp_neighborhood(p,q,eps):\n",
    "    return _dist(p,q)< eps"
   ]
  },
  {
   "cell_type": "code",
   "execution_count": 7,
   "id": "22d5d982",
   "metadata": {},
   "outputs": [],
   "source": [
    "def _region_query(X, point_id, eps):\n",
    "    n_points = X.shape[0]\n",
    "    seeds = []\n",
    "    \n",
    "    for i in range(0,n_points):\n",
    "        if _esp_neighborhood(X[point_id,:], X[i,:],eps):\n",
    "            seeds.append(i)                                  # seeds index numaralarını tutar\n",
    "    return seeds\n",
    "    "
   ]
  },
  {
   "cell_type": "code",
   "execution_count": 8,
   "id": "53ceb27d",
   "metadata": {},
   "outputs": [],
   "source": [
    "def _expand_cluster(X, classifications, point_id, cluster_id, eps, min_points):\n",
    "    \n",
    "    seeds = _region_query(X, point_id, eps)\n",
    "    \n",
    "    if len(seeds) < min_points:\n",
    "        classifications[point_id] = NOISE\n",
    "        return False\n",
    "    else:\n",
    "        classifications[point_id] = cluster_id\n",
    "        for seed_id in seeds:\n",
    "            classifications[seed_id] = cluster_id\n",
    "        while len(seeds) > 0:\n",
    "            current_point = seeds[0]\n",
    "            results = _region_query(X, current_point, eps)\n",
    "            if len(results) >= min_points:\n",
    "                for i in range(0, len(results)):\n",
    "                    result_point = results[i]\n",
    "                    if classifications[result_point] == UNCLASSIFIED or classifications[result_point] == NOISE:\n",
    "                        if classifications[result_point] == UNCLASSIFIED:\n",
    "                            seeds.append(result_point)\n",
    "                        classifications[result_point] = cluster_id\n",
    "            seeds = seeds[1:]\n",
    "        return True"
   ]
  },
  {
   "cell_type": "code",
   "execution_count": 14,
   "id": "2c299aed",
   "metadata": {},
   "outputs": [
    {
     "data": {
      "text/plain": [
       "array([1, 1, 2, 2, 2, 2, 2, 2, 1, 2, 1, 2, 2, 2, 1, 1, 2, 1, 1, 2, 1, 1,\n",
       "       2, 1, 2, 1, 2, 1, 2, 2, 1, 2, 1, 1, 2, 2, 2, 2, 2, 2, 2, 1, 1, 2,\n",
       "       2, 2, 2, 2, 2, 2, 2, 1, 2, 1, 2, 1, 2, 1, 2, 1, 1, 1, 2, 2, 1, 1,\n",
       "       2, 2, 1, 2, 1, 2, 2, 2, 1, 1, 2, 1, 2, 2, 1, 1, 1, 2, 2, 1, 2, 2,\n",
       "       2, 2, 2, 1, 1, 2, 2, 1, 2, 2, 1, 1, 2, 2, 1, 1, 1, 2, 2, 1, 1, 1,\n",
       "       1, 2, 2, 1, 2, 2, 2, 2, 2, 2, 1, 2, 2, 1, 2, 2, 1, 1, 1, 1, 1, 1,\n",
       "       2, 2, 1, 2, 2, 1, 1, 2, 2, 1, 2, 2, 1, 1, 1, 2, 2, 1, 1, 1, 2, 2,\n",
       "       2, 2, 1, 2, 1, 2, 2, 2, 1, 2, 1, 2, 1, 2, 2, 1, 1, 1, 1, 1, 2, 2,\n",
       "       1, 1, 1, 1, 2, 2, 1, 2, 2, 1, 2, 1, 2, 2, 2, 2, 1, 2, 2, 2, 2, 1,\n",
       "       1, 1])"
      ]
     },
     "execution_count": 14,
     "metadata": {},
     "output_type": "execute_result"
    },
    {
     "data": {
      "image/png": "[encoded data removed]",
      "text/plain": [
       "<Figure size 432x288 with 1 Axes>"
      ]
     },
     "metadata": {
      "needs_background": "light"
     },
     "output_type": "display_data"
    }
   ],
   "source": [
    "def dbscan(X, eps, min_points):\n",
    "\n",
    "    cluster_id = 1\n",
    "    n_points = X.shape[0]\n",
    "    classifications = [UNCLASSIFIED] * n_points\n",
    "    for point_id in range(0, n_points):\n",
    "        point = X[point_id,:]\n",
    "        if classifications[point_id] == UNCLASSIFIED:\n",
    "            if _expand_cluster(X, classifications, point_id, cluster_id, eps, min_points):\n",
    "                cluster_id = cluster_id + 1\n",
    "    return classifications\n",
    "\n",
    "X\n",
    "eps = 2\n",
    "min_points = 5\n",
    "y_pred  = dbscan(X, eps,min_points )\n",
    "\n",
    "\n",
    "y = np.array(y_pred)\n",
    "\n",
    "\n",
    "\n",
    "plt.scatter(X[y ==1,0], X[y==1,1], s = 30, c = \"red\")\n",
    "plt.scatter(X[y ==None,0], X[y==None,1], s = 30, c = \"black\")\n",
    "plt.scatter(X[y ==2,0], X[y==2,1], s = 30, c = \"blue\")\n",
    "plt.scatter(X[y ==3,0], X[y==3,1], s = 30, c = \"yellow\")\n",
    "plt.scatter(X[y ==4,0], X[y==4,1], s = 30, c = \"green\")\n",
    "y\n"
   ]
  },
  {
   "cell_type": "code",
   "execution_count": 10,
   "id": "6b38e575",
   "metadata": {},
   "outputs": [
    {
     "name": "stdout",
     "output_type": "stream",
     "text": [
      "5 min_points sayısında silhouette_score_0.5:  0.015661335800635154\n",
      "5 min_points sayısında davies_bouldin_score_0.5: 1.394\n",
      "-------------------------------------\n",
      "6 min_points sayısında silhouette_score_0.5:  -0.09532840161431214\n",
      "6 min_points sayısında davies_bouldin_score_0.5: 1.82\n",
      "-------------------------------------\n",
      "7 min_points sayısında silhouette_score_0.5:  -0.0695061024812725\n",
      "7 min_points sayısında davies_bouldin_score_0.5: 1.549\n",
      "-------------------------------------\n",
      "8 min_points sayısında silhouette_score_0.5:  -0.07543234574553993\n",
      "8 min_points sayısında davies_bouldin_score_0.5: 1.673\n",
      "-------------------------------------\n",
      "9 min_points sayısında silhouette_score_0.5:  -0.1267995868076781\n",
      "9 min_points sayısında davies_bouldin_score_0.5: 1.641\n",
      "-------------------------------------\n",
      "5 min_points sayısında silhouette_score_0.8:  0.17209872109761942\n",
      "5 min_points sayısında davies_bouldin_score_0.8: 2.736\n",
      "-------------------------------------\n",
      "6 min_points sayısında silhouette_score_0.8:  0.14328199373582287\n",
      "6 min_points sayısında davies_bouldin_score_0.8: 1.952\n",
      "-------------------------------------\n",
      "7 min_points sayısında silhouette_score_0.8:  0.1679350769941948\n",
      "7 min_points sayısında davies_bouldin_score_0.8: 1.804\n",
      "-------------------------------------\n",
      "8 min_points sayısında silhouette_score_0.8:  0.1345939660431251\n",
      "8 min_points sayısında davies_bouldin_score_0.8: 1.952\n",
      "-------------------------------------\n",
      "9 min_points sayısında silhouette_score_0.8:  0.129110724305479\n",
      "9 min_points sayısında davies_bouldin_score_0.8: 1.957\n",
      "-------------------------------------\n",
      "5 min_points sayısında silhouette_score_1.1:  0.25500811702333176\n",
      "5 min_points sayısında davies_bouldin_score_1.1: 2.334\n",
      "-------------------------------------\n",
      "6 min_points sayısında silhouette_score_1.1:  0.2596787243525698\n",
      "6 min_points sayısında davies_bouldin_score_1.1: 2.386\n",
      "-------------------------------------\n",
      "7 min_points sayısında silhouette_score_1.1:  0.2609148440402333\n",
      "7 min_points sayısında davies_bouldin_score_1.1: 3.156\n",
      "-------------------------------------\n",
      "8 min_points sayısında silhouette_score_1.1:  0.25712587760975447\n",
      "8 min_points sayısında davies_bouldin_score_1.1: 3.057\n",
      "-------------------------------------\n",
      "9 min_points sayısında silhouette_score_1.1:  0.25712587760975447\n",
      "9 min_points sayısında davies_bouldin_score_1.1: 3.057\n",
      "-------------------------------------\n",
      "5 min_points sayısında silhouette_score_1.4000000000000001:  0.23468505309475549\n",
      "5 min_points sayısında davies_bouldin_score_1.4000000000000001: 1.245\n",
      "-------------------------------------\n",
      "6 min_points sayısında silhouette_score_1.4000000000000001:  0.23468505309475549\n",
      "6 min_points sayısında davies_bouldin_score_1.4000000000000001: 1.245\n",
      "-------------------------------------\n",
      "7 min_points sayısında silhouette_score_1.4000000000000001:  0.23468505309475549\n",
      "7 min_points sayısında davies_bouldin_score_1.4000000000000001: 1.245\n",
      "-------------------------------------\n",
      "8 min_points sayısında silhouette_score_1.4000000000000001:  0.23468505309475549\n",
      "8 min_points sayısında davies_bouldin_score_1.4000000000000001: 1.245\n",
      "-------------------------------------\n",
      "9 min_points sayısında silhouette_score_1.4000000000000001:  0.2531608195121833\n",
      "9 min_points sayısında davies_bouldin_score_1.4000000000000001: 1.394\n",
      "-------------------------------------\n",
      "5 min_points sayısında silhouette_score_1.7000000000000002:  0.2776035125578272\n",
      "5 min_points sayısında davies_bouldin_score_1.7000000000000002: 1.612\n",
      "-------------------------------------\n",
      "6 min_points sayısında silhouette_score_1.7000000000000002:  0.2776035125578272\n",
      "6 min_points sayısında davies_bouldin_score_1.7000000000000002: 1.612\n",
      "-------------------------------------\n",
      "7 min_points sayısında silhouette_score_1.7000000000000002:  0.2776035125578272\n",
      "7 min_points sayısında davies_bouldin_score_1.7000000000000002: 1.612\n",
      "-------------------------------------\n",
      "8 min_points sayısında silhouette_score_1.7000000000000002:  0.2776035125578272\n",
      "8 min_points sayısında davies_bouldin_score_1.7000000000000002: 1.612\n",
      "-------------------------------------\n",
      "9 min_points sayısında silhouette_score_1.7000000000000002:  0.2776035125578272\n",
      "9 min_points sayısında davies_bouldin_score_1.7000000000000002: 1.612\n",
      "-------------------------------------\n"
     ]
    }
   ],
   "source": [
    "from sklearn.cluster import AgglomerativeClustering\n",
    "from sklearn.metrics import davies_bouldin_score\n",
    "from sklearn.metrics import silhouette_score\n",
    "\n",
    "\n",
    "\n",
    "\n",
    "def dbscan_sonuc():\n",
    "    \n",
    "    for i in np.arange(0.5,2.0,0.3):\n",
    "        \n",
    "        for j in range(5,10):\n",
    "            \n",
    "            y_pred  = np.array(dbscan(X, i,j))\n",
    "\n",
    "            print(\"{2} min_points sayısında silhouette_score_{1}:  {0}\".format(silhouette_score(X,y_pred, metric='euclidean'),i,j))\n",
    "            print('{2} min_points sayısında davies_bouldin_score_{1}: {0}'.format(str(davies_bouldin_score(X,y_pred).round(3)),i,j))\n",
    "            print(\"-------------------------------------\")\n",
    "\"\"\"\n",
    "plt.scatter(X[y ==0,0], X[y==0,1], s = 20, c = \"red\")\n",
    "plt.scatter(X[y ==1,0], X[y==1,1], s = 20, c = \"blue\")\n",
    "plt.scatter(X[y ==2,0], X[y==2,1], s = 20, c = \"yellow\")\"\"\"\n",
    "\n",
    "x = dbscan_sonuc()"
   ]
  },
  {
   "cell_type": "code",
   "execution_count": 11,
   "id": "9bedad1c",
   "metadata": {},
   "outputs": [
    {
     "name": "stdout",
     "output_type": "stream",
     "text": [
      "silhouette_score 0.2776035125578272\n",
      "Davies Bouldin Score:1.612\n"
     ]
    }
   ],
   "source": [
    "from sklearn.metrics import davies_bouldin_score\n",
    "\n",
    "from sklearn.metrics import silhouette_score\n",
    "\n",
    "y_pred  = np.array(dbscan(X, 1.7,5))\n",
    "    \n",
    "print(\"silhouette_score\", silhouette_score(X,y_pred, metric='euclidean'))\n",
    "\n",
    "print('Davies Bouldin Score:'+str(davies_bouldin_score(X,y_pred).round(3)))"
   ]
  },
  {
   "cell_type": "code",
   "execution_count": 12,
   "id": "99138d83",
   "metadata": {},
   "outputs": [
    {
     "data": {
      "text/html": [
       "<div>\n",
       "<style scoped>\n",
       "    .dataframe tbody tr th:only-of-type {\n",
       "        vertical-align: middle;\n",
       "    }\n",
       "\n",
       "    .dataframe tbody tr th {\n",
       "        vertical-align: top;\n",
       "    }\n",
       "\n",
       "    .dataframe thead th {\n",
       "        text-align: right;\n",
       "    }\n",
       "</style>\n",
       "<table border=\"1\" class=\"dataframe\">\n",
       "  <thead>\n",
       "    <tr style=\"text-align: right;\">\n",
       "      <th></th>\n",
       "      <th>Gender</th>\n",
       "      <th>Age</th>\n",
       "      <th>Annual Income (k$)</th>\n",
       "      <th>Spending Score (1-100)</th>\n",
       "      <th>cluster</th>\n",
       "    </tr>\n",
       "  </thead>\n",
       "  <tbody>\n",
       "    <tr>\n",
       "      <th>0</th>\n",
       "      <td>1</td>\n",
       "      <td>19</td>\n",
       "      <td>15</td>\n",
       "      <td>39</td>\n",
       "      <td>1</td>\n",
       "    </tr>\n",
       "    <tr>\n",
       "      <th>1</th>\n",
       "      <td>1</td>\n",
       "      <td>21</td>\n",
       "      <td>15</td>\n",
       "      <td>81</td>\n",
       "      <td>1</td>\n",
       "    </tr>\n",
       "    <tr>\n",
       "      <th>2</th>\n",
       "      <td>0</td>\n",
       "      <td>20</td>\n",
       "      <td>16</td>\n",
       "      <td>6</td>\n",
       "      <td>2</td>\n",
       "    </tr>\n",
       "    <tr>\n",
       "      <th>3</th>\n",
       "      <td>0</td>\n",
       "      <td>23</td>\n",
       "      <td>16</td>\n",
       "      <td>77</td>\n",
       "      <td>2</td>\n",
       "    </tr>\n",
       "    <tr>\n",
       "      <th>4</th>\n",
       "      <td>0</td>\n",
       "      <td>31</td>\n",
       "      <td>17</td>\n",
       "      <td>40</td>\n",
       "      <td>2</td>\n",
       "    </tr>\n",
       "  </tbody>\n",
       "</table>\n",
       "</div>"
      ],
      "text/plain": [
       "   Gender  Age  Annual Income (k$)  Spending Score (1-100)  cluster\n",
       "0       1   19                  15                      39        1\n",
       "1       1   21                  15                      81        1\n",
       "2       0   20                  16                       6        2\n",
       "3       0   23                  16                      77        2\n",
       "4       0   31                  17                      40        2"
      ]
     },
     "execution_count": 12,
     "metadata": {},
     "output_type": "execute_result"
    }
   ],
   "source": [
    "frame = pd.DataFrame(X_df)\n",
    "frame['cluster'] = y_pred\n",
    "frame.head()"
   ]
  },
  {
   "cell_type": "code",
   "execution_count": 13,
   "id": "73ccd54c",
   "metadata": {},
   "outputs": [
    {
     "data": {
      "text/html": [
       "<div>\n",
       "<style scoped>\n",
       "    .dataframe tbody tr th:only-of-type {\n",
       "        vertical-align: middle;\n",
       "    }\n",
       "\n",
       "    .dataframe tbody tr th {\n",
       "        vertical-align: top;\n",
       "    }\n",
       "\n",
       "    .dataframe thead th {\n",
       "        text-align: right;\n",
       "    }\n",
       "</style>\n",
       "<table border=\"1\" class=\"dataframe\">\n",
       "  <thead>\n",
       "    <tr style=\"text-align: right;\">\n",
       "      <th></th>\n",
       "      <th>cluster</th>\n",
       "      <th>Gender</th>\n",
       "      <th>Age</th>\n",
       "      <th>Annual Income (k$)</th>\n",
       "      <th>Spending Score (1-100)</th>\n",
       "    </tr>\n",
       "  </thead>\n",
       "  <tbody>\n",
       "    <tr>\n",
       "      <th>0</th>\n",
       "      <td>1</td>\n",
       "      <td>1</td>\n",
       "      <td>39.806818</td>\n",
       "      <td>62.227273</td>\n",
       "      <td>48.511364</td>\n",
       "    </tr>\n",
       "    <tr>\n",
       "      <th>1</th>\n",
       "      <td>2</td>\n",
       "      <td>0</td>\n",
       "      <td>38.098214</td>\n",
       "      <td>59.250000</td>\n",
       "      <td>51.526786</td>\n",
       "    </tr>\n",
       "  </tbody>\n",
       "</table>\n",
       "</div>"
      ],
      "text/plain": [
       "   cluster  Gender        Age  Annual Income (k$)  Spending Score (1-100)\n",
       "0        1       1  39.806818           62.227273               48.511364\n",
       "1        2       0  38.098214           59.250000               51.526786"
      ]
     },
     "execution_count": 13,
     "metadata": {},
     "output_type": "execute_result"
    }
   ],
   "source": [
    "avg_df = X_df.groupby(['cluster'], as_index=False).mean()\n",
    "avg_df"
   ]
  },
  {
   "cell_type": "code",
   "execution_count": 16,
   "id": "2c5460c7",
   "metadata": {},
   "outputs": [
    {
     "data": {
      "text/plain": [
       "<AxesSubplot:xlabel='cluster', ylabel='Gender'>"
      ]
     },
     "execution_count": 16,
     "metadata": {},
     "output_type": "execute_result"
    },
    {
     "data": {
      "image/png": "[encoded data removed]",
      "text/plain": [
       "<Figure size 432x288 with 1 Axes>"
      ]
     },
     "metadata": {
      "needs_background": "light"
     },
     "output_type": "display_data"
    }
   ],
   "source": [
    "import seaborn as sns\n",
    "sns.barplot(x='cluster',y='Gender',data=avg_df)"
   ]
  },
  {
   "cell_type": "code",
   "execution_count": 17,
   "id": "8ee0e571",
   "metadata": {},
   "outputs": [
    {
     "data": {
      "text/plain": [
       "<AxesSubplot:xlabel='cluster', ylabel='Age'>"
      ]
     },
     "execution_count": 17,
     "metadata": {},
     "output_type": "execute_result"
    },
    {
     "data": {
      "image/png": "[encoded data removed]",
      "text/plain": [
       "<Figure size 432x288 with 1 Axes>"
      ]
     },
     "metadata": {
      "needs_background": "light"
     },
     "output_type": "display_data"
    }
   ],
   "source": [
    "sns.barplot(x='cluster',y='Age',data=avg_df)"
   ]
  },
  {
   "cell_type": "code",
   "execution_count": 18,
   "id": "f8d421cd",
   "metadata": {},
   "outputs": [
    {
     "data": {
      "text/plain": [
       "<AxesSubplot:xlabel='cluster', ylabel='Spending Score (1-100)'>"
      ]
     },
     "execution_count": 18,
     "metadata": {},
     "output_type": "execute_result"
    },
    {
     "data": {
      "image/png": "[encoded data removed]",
      "text/plain": [
       "<Figure size 432x288 with 1 Axes>"
      ]
     },
     "metadata": {
      "needs_background": "light"
     },
     "output_type": "display_data"
    }
   ],
   "source": [
    "sns.barplot(x='cluster',y='Spending Score (1-100)',data=avg_df)"
   ]
  },
  {
   "cell_type": "code",
   "execution_count": 19,
   "id": "17fece5f",
   "metadata": {},
   "outputs": [
    {
     "data": {
      "text/plain": [
       "<AxesSubplot:xlabel='cluster', ylabel='Annual Income (k$)'>"
      ]
     },
     "execution_count": 19,
     "metadata": {},
     "output_type": "execute_result"
    },
    {
     "data": {
      "image/png": "[encoded data removed]",
      "text/plain": [
       "<Figure size 432x288 with 1 Axes>"
      ]
     },
     "metadata": {
      "needs_background": "light"
     },
     "output_type": "display_data"
    }
   ],
   "source": [
    "sns.barplot(x='cluster',y='Annual Income (k$)',data=avg_df)"
   ]
  },
  {
   "cell_type": "code",
   "execution_count": null,
   "id": "e9181e9c",
   "metadata": {},
   "outputs": [],
   "source": []
  }
 ],
 "metadata": {
  "kernelspec": {
   "display_name": "Python 3",
   "language": "python",
   "name": "python3"
  },
  "language_info": {
   "codemirror_mode": {
    "name": "ipython",
    "version": 3
   },
   "file_extension": ".py",
   "mimetype": "text/x-python",
   "name": "python",
   "nbconvert_exporter": "python",
   "pygments_lexer": "ipython3",
   "version": "3.8.8"
  }
 },
 "nbformat": 4,
 "nbformat_minor": 5
}
