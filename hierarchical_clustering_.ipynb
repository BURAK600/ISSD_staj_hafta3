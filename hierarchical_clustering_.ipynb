{
 "cells": [
  {
   "cell_type": "code",
   "execution_count": 7,
   "id": "c8def998",
   "metadata": {},
   "outputs": [],
   "source": [
    "import numpy as np\n",
    "import pandas as pd\n",
    "import matplotlib.pyplot as plt\n",
    "\n",
    "data = pd.read_csv('Mall_Customers.csv')\n"
   ]
  },
  {
   "cell_type": "code",
   "execution_count": 8,
   "id": "87c5f5d5",
   "metadata": {},
   "outputs": [],
   "source": [
    "from sklearn import preprocessing\n",
    "le = preprocessing.LabelEncoder()\n",
    "\n",
    "data[\"Gender\"] = le.fit_transform(data[\"Gender\"])\n",
    "\n",
    "X_df= data.iloc[:,1:]\n"
   ]
  },
  {
   "cell_type": "code",
   "execution_count": 9,
   "id": "950f87ae",
   "metadata": {},
   "outputs": [],
   "source": [
    "from sklearn.preprocessing import StandardScaler\n",
    "\n",
    "sc = StandardScaler()\n",
    "\n",
    "X = sc.fit_transform(X_df)\n"
   ]
  },
  {
   "cell_type": "code",
   "execution_count": 10,
   "id": "70b94783",
   "metadata": {},
   "outputs": [
    {
     "data": {
      "image/png": "[encoded data removed]",
      "text/plain": [
       "<Figure size 432x288 with 1 Axes>"
      ]
     },
     "metadata": {
      "needs_background": "light"
     },
     "output_type": "display_data"
    }
   ],
   "source": [
    "import scipy.cluster.hierarchy as sch\n",
    "\n",
    "dendogram = sch.dendrogram(sch.linkage(X, method = \"ward\"))"
   ]
  },
  {
   "cell_type": "code",
   "execution_count": 11,
   "id": "429d1233",
   "metadata": {},
   "outputs": [
    {
     "name": "stdout",
     "output_type": "stream",
     "text": [
      "2 k sayında silhouette_score_ward:  0.24177953745462927\n",
      "2 k sayısında davies_bouldin_score_ward: 1.661\n",
      "-------------------------------------\n",
      "2 k sayında silhouette_score_complete:  0.1725985607018346\n",
      "2 k sayısında davies_bouldin_score_complete: 2.175\n",
      "-------------------------------------\n",
      "2 k sayında silhouette_score_average:  0.2776035125578272\n",
      "2 k sayısında davies_bouldin_score_average: 1.612\n",
      "-------------------------------------\n",
      "2 k sayında silhouette_score_single:  0.2776035125578272\n",
      "2 k sayısında davies_bouldin_score_single: 1.612\n",
      "-------------------------------------\n",
      "3 k sayında silhouette_score_ward:  0.24834537795671963\n",
      "3 k sayısında davies_bouldin_score_ward: 1.451\n",
      "-------------------------------------\n",
      "3 k sayında silhouette_score_complete:  0.20792835320796477\n",
      "3 k sayısında davies_bouldin_score_complete: 1.701\n",
      "-------------------------------------\n",
      "3 k sayında silhouette_score_average:  0.27789348707719236\n",
      "3 k sayısında davies_bouldin_score_average: 1.27\n",
      "-------------------------------------\n",
      "3 k sayında silhouette_score_single:  0.21750442652251714\n",
      "3 k sayısında davies_bouldin_score_single: 1.253\n",
      "-------------------------------------\n",
      "4 k sayında silhouette_score_ward:  0.2632260518820244\n",
      "4 k sayısında davies_bouldin_score_ward: 1.402\n",
      "-------------------------------------\n",
      "4 k sayında silhouette_score_complete:  0.265149160687069\n",
      "4 k sayısında davies_bouldin_score_complete: 1.349\n",
      "-------------------------------------\n",
      "4 k sayında silhouette_score_average:  0.26644409466265084\n",
      "4 k sayısında davies_bouldin_score_average: 1.12\n",
      "-------------------------------------\n",
      "4 k sayında silhouette_score_single:  0.15329615915487577\n",
      "4 k sayısında davies_bouldin_score_single: 1.118\n",
      "-------------------------------------\n",
      "5 k sayında silhouette_score_ward:  0.28699413201651747\n",
      "5 k sayısında davies_bouldin_score_ward: 1.22\n",
      "-------------------------------------\n",
      "5 k sayında silhouette_score_complete:  0.243309230918067\n",
      "5 k sayısında davies_bouldin_score_complete: 1.378\n",
      "-------------------------------------\n",
      "5 k sayında silhouette_score_average:  0.3074582793074308\n",
      "5 k sayısında davies_bouldin_score_average: 1.168\n",
      "-------------------------------------\n",
      "5 k sayında silhouette_score_single:  0.1218252098604483\n",
      "5 k sayısında davies_bouldin_score_single: 1.035\n",
      "-------------------------------------\n",
      "6 k sayında silhouette_score_ward:  0.3102445968526053\n",
      "6 k sayısında davies_bouldin_score_ward: 1.073\n",
      "-------------------------------------\n",
      "6 k sayında silhouette_score_complete:  0.2838903216440338\n",
      "6 k sayısında davies_bouldin_score_complete: 1.237\n",
      "-------------------------------------\n",
      "6 k sayında silhouette_score_average:  0.3212139395520331\n",
      "6 k sayısında davies_bouldin_score_average: 1.067\n",
      "-------------------------------------\n",
      "6 k sayında silhouette_score_single:  0.08592695326895324\n",
      "6 k sayısında davies_bouldin_score_single: 0.97\n",
      "-------------------------------------\n",
      "7 k sayında silhouette_score_ward:  0.34555782664693324\n",
      "7 k sayısında davies_bouldin_score_ward: 1.011\n",
      "-------------------------------------\n",
      "7 k sayında silhouette_score_complete:  0.30499077647719214\n",
      "7 k sayısında davies_bouldin_score_complete: 1.038\n",
      "-------------------------------------\n",
      "7 k sayında silhouette_score_average:  0.3432533209338752\n",
      "7 k sayısında davies_bouldin_score_average: 1.01\n",
      "-------------------------------------\n",
      "7 k sayında silhouette_score_single:  0.07693329526645995\n",
      "7 k sayısında davies_bouldin_score_single: 0.983\n",
      "-------------------------------------\n",
      "8 k sayında silhouette_score_ward:  0.3788796050129373\n",
      "8 k sayısında davies_bouldin_score_ward: 0.968\n",
      "-------------------------------------\n",
      "8 k sayında silhouette_score_complete:  0.2988091182930526\n",
      "8 k sayısında davies_bouldin_score_complete: 1.107\n",
      "-------------------------------------\n",
      "8 k sayında silhouette_score_average:  0.3813423912212192\n",
      "8 k sayısında davies_bouldin_score_average: 0.957\n",
      "-------------------------------------\n",
      "8 k sayında silhouette_score_single:  0.06236135998754358\n",
      "8 k sayısında davies_bouldin_score_single: 0.945\n",
      "-------------------------------------\n",
      "9 k sayında silhouette_score_ward:  0.39225805358687793\n",
      "9 k sayısında davies_bouldin_score_ward: 0.879\n",
      "-------------------------------------\n",
      "9 k sayında silhouette_score_complete:  0.2979504366374553\n",
      "9 k sayısında davies_bouldin_score_complete: 1.06\n",
      "-------------------------------------\n",
      "9 k sayında silhouette_score_average:  0.3799256819472207\n",
      "9 k sayısında davies_bouldin_score_average: 0.916\n",
      "-------------------------------------\n",
      "9 k sayında silhouette_score_single:  0.040333245250862376\n",
      "9 k sayısında davies_bouldin_score_single: 0.883\n",
      "-------------------------------------\n",
      "10 k sayında silhouette_score_ward:  0.4176254448686808\n",
      "10 k sayısında davies_bouldin_score_ward: 0.825\n",
      "-------------------------------------\n",
      "10 k sayında silhouette_score_complete:  0.3526439220768313\n",
      "10 k sayısında davies_bouldin_score_complete: 1.015\n",
      "-------------------------------------\n",
      "10 k sayında silhouette_score_average:  0.3743144491168563\n",
      "10 k sayısında davies_bouldin_score_average: 0.9\n",
      "-------------------------------------\n",
      "10 k sayında silhouette_score_single:  -0.00038290537999368545\n",
      "10 k sayısında davies_bouldin_score_single: 0.859\n",
      "-------------------------------------\n",
      "11 k sayında silhouette_score_ward:  0.42517748630372254\n",
      "11 k sayısında davies_bouldin_score_ward: 0.799\n",
      "-------------------------------------\n",
      "11 k sayında silhouette_score_complete:  0.37543417275151525\n",
      "11 k sayısında davies_bouldin_score_complete: 0.936\n",
      "-------------------------------------\n",
      "11 k sayında silhouette_score_average:  0.3732106470325222\n",
      "11 k sayısında davies_bouldin_score_average: 0.861\n",
      "-------------------------------------\n",
      "11 k sayında silhouette_score_single:  -0.01698920557936629\n",
      "11 k sayısında davies_bouldin_score_single: 0.839\n",
      "-------------------------------------\n",
      "12 k sayında silhouette_score_ward:  0.42440324303677535\n",
      "12 k sayısında davies_bouldin_score_ward: 0.823\n",
      "-------------------------------------\n",
      "12 k sayında silhouette_score_complete:  0.38425925010567313\n",
      "12 k sayısında davies_bouldin_score_complete: 0.926\n",
      "-------------------------------------\n",
      "12 k sayında silhouette_score_average:  0.3727258770657203\n",
      "12 k sayısında davies_bouldin_score_average: 0.867\n",
      "-------------------------------------\n",
      "12 k sayında silhouette_score_single:  -0.037579695066535725\n",
      "12 k sayısında davies_bouldin_score_single: 0.819\n",
      "-------------------------------------\n",
      "13 k sayında silhouette_score_ward:  0.4198062925672963\n",
      "13 k sayısında davies_bouldin_score_ward: 0.821\n",
      "-------------------------------------\n",
      "13 k sayında silhouette_score_complete:  0.3935501100951078\n",
      "13 k sayısında davies_bouldin_score_complete: 0.9\n",
      "-------------------------------------\n",
      "13 k sayında silhouette_score_average:  0.3976957636378026\n",
      "13 k sayısında davies_bouldin_score_average: 0.834\n",
      "-------------------------------------\n",
      "13 k sayında silhouette_score_single:  -0.016902069545115597\n",
      "13 k sayısında davies_bouldin_score_single: 0.83\n",
      "-------------------------------------\n",
      "14 k sayında silhouette_score_ward:  0.4254321544952805\n",
      "14 k sayısında davies_bouldin_score_ward: 0.841\n",
      "-------------------------------------\n",
      "14 k sayında silhouette_score_complete:  0.39430351725689405\n",
      "14 k sayısında davies_bouldin_score_complete: 0.869\n",
      "-------------------------------------\n",
      "14 k sayında silhouette_score_average:  0.40777611151115695\n",
      "14 k sayısında davies_bouldin_score_average: 0.795\n",
      "-------------------------------------\n",
      "14 k sayında silhouette_score_single:  0.02964837951125749\n",
      "14 k sayısında davies_bouldin_score_single: 0.865\n",
      "-------------------------------------\n"
     ]
    }
   ],
   "source": [
    "from sklearn.cluster import AgglomerativeClustering\n",
    "from sklearn.metrics import davies_bouldin_score\n",
    "from sklearn.metrics import silhouette_score\n",
    "linkage = [\"ward\", \"complete\", \"average\", \"single\"]\n",
    "def hc_sonuc(linkage):\n",
    "    \n",
    "    for j in range(2,15):\n",
    "        \n",
    "        for i in linkage:\n",
    "    \n",
    "            hy = AgglomerativeClustering(n_clusters = j, affinity = 'euclidean', linkage=i)\n",
    "            y = hy.fit_predict(X)\n",
    "        \n",
    "            print(\"{2} k sayında silhouette_score_{1}:  {0}\".format(silhouette_score(X,y, metric='euclidean'),i,j))\n",
    "            print('{2} k sayısında davies_bouldin_score_{1}: {0}'.format(str(davies_bouldin_score(X,y).round(3)),i,j))\n",
    "            print(\"-------------------------------------\")\n",
    "\n",
    "\n",
    "\"\"\"\n",
    "plt.scatter(X[y ==0,0], X[y==0,1], s = 20, c = \"red\")\n",
    "plt.scatter(X[y ==1,0], X[y==1,1], s = 20, c = \"blue\")\n",
    "plt.scatter(X[y ==2,0], X[y==2,1], s = 20, c = \"yellow\")\"\"\"\n",
    "\n",
    "x = hc_sonuc(linkage)"
   ]
  },
  {
   "cell_type": "code",
   "execution_count": 12,
   "id": "2302a195",
   "metadata": {},
   "outputs": [
    {
     "name": "stdout",
     "output_type": "stream",
     "text": [
      "silhouette_score 0.42517748630372254\n",
      "Davies Bouldin Score:0.799\n"
     ]
    }
   ],
   "source": [
    "from sklearn.metrics import davies_bouldin_score\n",
    "\n",
    "from sklearn.metrics import silhouette_score\n",
    "\n",
    "hy = AgglomerativeClustering(n_clusters = 11, affinity = 'euclidean', linkage=\"ward\")\n",
    "y_ = hy.fit_predict(X)\n",
    "    \n",
    "print(\"silhouette_score\", silhouette_score(X,y_, metric='euclidean'))\n",
    "\n",
    "print('Davies Bouldin Score:'+str(davies_bouldin_score(X,y_).round(3)))\n"
   ]
  },
  {
   "cell_type": "code",
   "execution_count": 13,
   "id": "8df133e5",
   "metadata": {},
   "outputs": [
    {
     "data": {
      "text/html": [
       "<div>\n",
       "<style scoped>\n",
       "    .dataframe tbody tr th:only-of-type {\n",
       "        vertical-align: middle;\n",
       "    }\n",
       "\n",
       "    .dataframe tbody tr th {\n",
       "        vertical-align: top;\n",
       "    }\n",
       "\n",
       "    .dataframe thead th {\n",
       "        text-align: right;\n",
       "    }\n",
       "</style>\n",
       "<table border=\"1\" class=\"dataframe\">\n",
       "  <thead>\n",
       "    <tr style=\"text-align: right;\">\n",
       "      <th></th>\n",
       "      <th>Gender</th>\n",
       "      <th>Age</th>\n",
       "      <th>Annual Income (k$)</th>\n",
       "      <th>Spending Score (1-100)</th>\n",
       "      <th>cluster</th>\n",
       "    </tr>\n",
       "  </thead>\n",
       "  <tbody>\n",
       "    <tr>\n",
       "      <th>0</th>\n",
       "      <td>1</td>\n",
       "      <td>19</td>\n",
       "      <td>15</td>\n",
       "      <td>39</td>\n",
       "      <td>0</td>\n",
       "    </tr>\n",
       "    <tr>\n",
       "      <th>1</th>\n",
       "      <td>1</td>\n",
       "      <td>21</td>\n",
       "      <td>15</td>\n",
       "      <td>81</td>\n",
       "      <td>0</td>\n",
       "    </tr>\n",
       "    <tr>\n",
       "      <th>2</th>\n",
       "      <td>0</td>\n",
       "      <td>20</td>\n",
       "      <td>16</td>\n",
       "      <td>6</td>\n",
       "      <td>9</td>\n",
       "    </tr>\n",
       "    <tr>\n",
       "      <th>3</th>\n",
       "      <td>0</td>\n",
       "      <td>23</td>\n",
       "      <td>16</td>\n",
       "      <td>77</td>\n",
       "      <td>8</td>\n",
       "    </tr>\n",
       "    <tr>\n",
       "      <th>4</th>\n",
       "      <td>0</td>\n",
       "      <td>31</td>\n",
       "      <td>17</td>\n",
       "      <td>40</td>\n",
       "      <td>9</td>\n",
       "    </tr>\n",
       "  </tbody>\n",
       "</table>\n",
       "</div>"
      ],
      "text/plain": [
       "   Gender  Age  Annual Income (k$)  Spending Score (1-100)  cluster\n",
       "0       1   19                  15                      39        0\n",
       "1       1   21                  15                      81        0\n",
       "2       0   20                  16                       6        9\n",
       "3       0   23                  16                      77        8\n",
       "4       0   31                  17                      40        9"
      ]
     },
     "execution_count": 13,
     "metadata": {},
     "output_type": "execute_result"
    }
   ],
   "source": [
    "\n",
    "# map back clusters to dataframe\n",
    "\n",
    "frame = pd.DataFrame(X_df)\n",
    "frame['cluster'] = y_\n",
    "frame.head()"
   ]
  },
  {
   "cell_type": "code",
   "execution_count": 14,
   "id": "bb68f94c",
   "metadata": {},
   "outputs": [
    {
     "data": {
      "text/html": [
       "<div>\n",
       "<style scoped>\n",
       "    .dataframe tbody tr th:only-of-type {\n",
       "        vertical-align: middle;\n",
       "    }\n",
       "\n",
       "    .dataframe tbody tr th {\n",
       "        vertical-align: top;\n",
       "    }\n",
       "\n",
       "    .dataframe thead th {\n",
       "        text-align: right;\n",
       "    }\n",
       "</style>\n",
       "<table border=\"1\" class=\"dataframe\">\n",
       "  <thead>\n",
       "    <tr style=\"text-align: right;\">\n",
       "      <th></th>\n",
       "      <th>cluster</th>\n",
       "      <th>Gender</th>\n",
       "      <th>Age</th>\n",
       "      <th>Annual Income (k$)</th>\n",
       "      <th>Spending Score (1-100)</th>\n",
       "    </tr>\n",
       "  </thead>\n",
       "  <tbody>\n",
       "    <tr>\n",
       "      <th>0</th>\n",
       "      <td>0</td>\n",
       "      <td>1</td>\n",
       "      <td>24.565217</td>\n",
       "      <td>39.217391</td>\n",
       "      <td>59.652174</td>\n",
       "    </tr>\n",
       "    <tr>\n",
       "      <th>1</th>\n",
       "      <td>1</td>\n",
       "      <td>1</td>\n",
       "      <td>38.833333</td>\n",
       "      <td>86.388889</td>\n",
       "      <td>11.666667</td>\n",
       "    </tr>\n",
       "    <tr>\n",
       "      <th>2</th>\n",
       "      <td>2</td>\n",
       "      <td>1</td>\n",
       "      <td>55.840000</td>\n",
       "      <td>54.000000</td>\n",
       "      <td>46.960000</td>\n",
       "    </tr>\n",
       "    <tr>\n",
       "      <th>3</th>\n",
       "      <td>3</td>\n",
       "      <td>0</td>\n",
       "      <td>54.080000</td>\n",
       "      <td>53.240000</td>\n",
       "      <td>49.520000</td>\n",
       "    </tr>\n",
       "    <tr>\n",
       "      <th>4</th>\n",
       "      <td>4</td>\n",
       "      <td>0</td>\n",
       "      <td>27.960000</td>\n",
       "      <td>57.360000</td>\n",
       "      <td>47.120000</td>\n",
       "    </tr>\n",
       "    <tr>\n",
       "      <th>5</th>\n",
       "      <td>5</td>\n",
       "      <td>1</td>\n",
       "      <td>33.277778</td>\n",
       "      <td>87.111111</td>\n",
       "      <td>82.666667</td>\n",
       "    </tr>\n",
       "    <tr>\n",
       "      <th>6</th>\n",
       "      <td>6</td>\n",
       "      <td>0</td>\n",
       "      <td>32.190476</td>\n",
       "      <td>86.047619</td>\n",
       "      <td>81.666667</td>\n",
       "    </tr>\n",
       "    <tr>\n",
       "      <th>7</th>\n",
       "      <td>7</td>\n",
       "      <td>0</td>\n",
       "      <td>44.600000</td>\n",
       "      <td>92.333333</td>\n",
       "      <td>21.600000</td>\n",
       "    </tr>\n",
       "    <tr>\n",
       "      <th>8</th>\n",
       "      <td>8</td>\n",
       "      <td>0</td>\n",
       "      <td>25.461538</td>\n",
       "      <td>25.692308</td>\n",
       "      <td>80.538462</td>\n",
       "    </tr>\n",
       "    <tr>\n",
       "      <th>9</th>\n",
       "      <td>9</td>\n",
       "      <td>0</td>\n",
       "      <td>41.538462</td>\n",
       "      <td>26.538462</td>\n",
       "      <td>20.692308</td>\n",
       "    </tr>\n",
       "    <tr>\n",
       "      <th>10</th>\n",
       "      <td>10</td>\n",
       "      <td>1</td>\n",
       "      <td>61.000000</td>\n",
       "      <td>25.250000</td>\n",
       "      <td>6.250000</td>\n",
       "    </tr>\n",
       "  </tbody>\n",
       "</table>\n",
       "</div>"
      ],
      "text/plain": [
       "    cluster  Gender        Age  Annual Income (k$)  Spending Score (1-100)\n",
       "0         0       1  24.565217           39.217391               59.652174\n",
       "1         1       1  38.833333           86.388889               11.666667\n",
       "2         2       1  55.840000           54.000000               46.960000\n",
       "3         3       0  54.080000           53.240000               49.520000\n",
       "4         4       0  27.960000           57.360000               47.120000\n",
       "5         5       1  33.277778           87.111111               82.666667\n",
       "6         6       0  32.190476           86.047619               81.666667\n",
       "7         7       0  44.600000           92.333333               21.600000\n",
       "8         8       0  25.461538           25.692308               80.538462\n",
       "9         9       0  41.538462           26.538462               20.692308\n",
       "10       10       1  61.000000           25.250000                6.250000"
      ]
     },
     "execution_count": 14,
     "metadata": {},
     "output_type": "execute_result"
    }
   ],
   "source": [
    "avg_df = X_df.groupby(['cluster'], as_index=False).mean()\n",
    "avg_df"
   ]
  },
  {
   "cell_type": "code",
   "execution_count": 15,
   "id": "b9f197c5",
   "metadata": {},
   "outputs": [
    {
     "data": {
      "text/plain": [
       "<AxesSubplot:xlabel='cluster', ylabel='Gender'>"
      ]
     },
     "execution_count": 15,
     "metadata": {},
     "output_type": "execute_result"
    },
    {
     "data": {
      "image/png": "[encoded data removed]",
      "text/plain": [
       "<Figure size 432x288 with 1 Axes>"
      ]
     },
     "metadata": {
      "needs_background": "light"
     },
     "output_type": "display_data"
    }
   ],
   "source": [
    "import seaborn as sns\n",
    "sns.barplot(x='cluster',y='Gender',data=avg_df)"
   ]
  },
  {
   "cell_type": "code",
   "execution_count": 16,
   "id": "e0162ced",
   "metadata": {},
   "outputs": [
    {
     "data": {
      "text/plain": [
       "<AxesSubplot:xlabel='cluster', ylabel='Age'>"
      ]
     },
     "execution_count": 16,
     "metadata": {},
     "output_type": "execute_result"
    },
    {
     "data": {
      "image/png": "[encoded data removed]",
      "text/plain": [
       "<Figure size 432x288 with 1 Axes>"
      ]
     },
     "metadata": {
      "needs_background": "light"
     },
     "output_type": "display_data"
    }
   ],
   "source": [
    "sns.barplot(x='cluster',y='Age',data=avg_df)"
   ]
  },
  {
   "cell_type": "code",
   "execution_count": 17,
   "id": "66049914",
   "metadata": {},
   "outputs": [
    {
     "data": {
      "text/plain": [
       "<AxesSubplot:xlabel='cluster', ylabel='Spending Score (1-100)'>"
      ]
     },
     "execution_count": 17,
     "metadata": {},
     "output_type": "execute_result"
    },
    {
     "data": {
      "image/png": "[encoded data removed]",
      "text/plain": [
       "<Figure size 432x288 with 1 Axes>"
      ]
     },
     "metadata": {
      "needs_background": "light"
     },
     "output_type": "display_data"
    }
   ],
   "source": [
    "sns.barplot(x='cluster',y='Spending Score (1-100)',data=avg_df)"
   ]
  },
  {
   "cell_type": "code",
   "execution_count": 18,
   "id": "3d074b39",
   "metadata": {},
   "outputs": [
    {
     "data": {
      "text/plain": [
       "<AxesSubplot:xlabel='cluster', ylabel='Annual Income (k$)'>"
      ]
     },
     "execution_count": 18,
     "metadata": {},
     "output_type": "execute_result"
    },
    {
     "data": {
      "image/png": "[encoded data removed]",
      "text/plain": [
       "<Figure size 432x288 with 1 Axes>"
      ]
     },
     "metadata": {
      "needs_background": "light"
     },
     "output_type": "display_data"
    }
   ],
   "source": [
    "sns.barplot(x='cluster',y='Annual Income (k$)',data=avg_df)"
   ]
  },
  {
   "cell_type": "code",
   "execution_count": null,
   "id": "da107c22",
   "metadata": {},
   "outputs": [],
   "source": []
  }
 ],
 "metadata": {
  "kernelspec": {
   "display_name": "Python 3",
   "language": "python",
   "name": "python3"
  },
  "language_info": {
   "codemirror_mode": {
    "name": "ipython",
    "version": 3
   },
   "file_extension": ".py",
   "mimetype": "text/x-python",
   "name": "python",
   "nbconvert_exporter": "python",
   "pygments_lexer": "ipython3",
   "version": "3.8.8"
  }
 },
 "nbformat": 4,
 "nbformat_minor": 5
}
